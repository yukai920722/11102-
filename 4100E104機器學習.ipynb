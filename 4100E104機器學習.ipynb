{
  "nbformat": 4,
  "nbformat_minor": 0,
  "metadata": {
    "colab": {
      "provenance": [],
      "authorship_tag": "ABX9TyMgSIj2APgDg+sqh7bZHXpL",
      "include_colab_link": true
    },
    "kernelspec": {
      "name": "python3",
      "display_name": "Python 3"
    },
    "language_info": {
      "name": "python"
    }
  },
  "cells": [
    {
      "cell_type": "markdown",
      "metadata": {
        "id": "view-in-github",
        "colab_type": "text"
      },
      "source": [
        "<a href=\"https://colab.research.google.com/github/yukai920722/11102-machine-learning/blob/main/4100E104%E6%A9%9F%E5%99%A8%E5%AD%B8%E7%BF%92.ipynb\" target=\"_parent\"><img src=\"https://colab.research.google.com/assets/colab-badge.svg\" alt=\"Open In Colab\"/></a>"
      ]
    },
    {
      "cell_type": "markdown",
      "source": [
        "# **4100E104機器學習**\n",
        "### **本檔案會完成後上傳到github.com**\n",
        "---\n",
        "# **scipy**\n",
        "\n"
      ],
      "metadata": {
        "id": "4C_pvn5I--du"
      }
    },
    {
      "cell_type": "markdown",
      "source": [
        "scipy範例學習\n"
      ],
      "metadata": {
        "id": "k8N-VZFa9VpX"
      }
    },
    {
      "cell_type": "code",
      "execution_count": 1,
      "metadata": {
        "colab": {
          "base_uri": "https://localhost:8080/"
        },
        "id": "qkBzYUzhykf7",
        "outputId": "5054516f-623e-480b-9406-25b71f391c29"
      },
      "outputs": [
        {
          "output_type": "stream",
          "name": "stdout",
          "text": [
            "1.10.1\n"
          ]
        }
      ],
      "source": [
        "import scipy\n",
        "\n",
        "print(scipy.__version__)"
      ]
    },
    {
      "cell_type": "markdown",
      "source": [
        "scipy.integrate\n"
      ],
      "metadata": {
        "id": "ToheSEMR9SSH"
      }
    },
    {
      "cell_type": "code",
      "source": [
        "import scipy.integrate\n",
        "from numpy import exp\n",
        "\n",
        "f= lambda x:exp(-x**2)\n",
        "i = scipy.integrate.quad(f, 0, 1)\n",
        "\n",
        "print(i)"
      ],
      "metadata": {
        "colab": {
          "base_uri": "https://localhost:8080/"
        },
        "id": "oFD7DJPJ9FUw",
        "outputId": "0a6a579a-bc2a-446b-d71f-31695f543c6b"
      },
      "execution_count": 2,
      "outputs": [
        {
          "output_type": "stream",
          "name": "stdout",
          "text": [
            "(0.7468241328124271, 8.291413475940725e-15)\n"
          ]
        }
      ]
    },
    {
      "cell_type": "markdown",
      "source": [
        "積分"
      ],
      "metadata": {
        "id": "AON-owXr9PpP"
      }
    },
    {
      "cell_type": "code",
      "source": [
        "import scipy.integrate\n",
        "from numpy import exp\n",
        "from math import sqrt\n",
        "\n",
        "f = lambda x, y : 16*x*y\n",
        "g = lambda x : 0\n",
        "h = lambda y : sqrt(1-4*y**2)\n",
        "i = scipy.integrate.dblquad(f, 0, 0.5, g, h)\n",
        "\n",
        "print(i)"
      ],
      "metadata": {
        "colab": {
          "base_uri": "https://localhost:8080/"
        },
        "id": "D8-W8MEq9G-I",
        "outputId": "89862080-d698-4368-cf6a-e4a004865abc"
      },
      "execution_count": 3,
      "outputs": [
        {
          "output_type": "stream",
          "name": "stdout",
          "text": [
            "(0.5, 1.7092350012594845e-14)\n"
          ]
        }
      ]
    },
    {
      "cell_type": "markdown",
      "source": [
        "SciPy:線性代數之解聯立方程式\n"
      ],
      "metadata": {
        "id": "dCKGFtM69MNg"
      }
    },
    {
      "cell_type": "code",
      "source": [
        "#importing the scipy and numpy packages\n",
        "from scipy import linalg\n",
        "import numpy as np\n",
        "\n",
        "#Declaring the numpy arrays\n",
        "a = np.array([[3, 2, 0], [1, -1, 0], [0, 5, 1]])\n",
        "b = np.array([2, 4, -1])\n",
        "\n",
        "#Passing the values to the solve function\n",
        "x = linalg.solve(a, b)\n",
        "\n",
        "#printing the result array\n",
        "print(x)"
      ],
      "metadata": {
        "colab": {
          "base_uri": "https://localhost:8080/"
        },
        "id": "J6QIBqrX9JGg",
        "outputId": "82c058d3-8ae8-4a6b-d018-033bddef361f"
      },
      "execution_count": 4,
      "outputs": [
        {
          "output_type": "stream",
          "name": "stdout",
          "text": [
            "[ 2. -2.  9.]\n"
          ]
        }
      ]
    },
    {
      "cell_type": "markdown",
      "source": [
        "SciPy:線性代數之Finding a Determinant\n"
      ],
      "metadata": {
        "id": "CiCaw5TG_jMe"
      }
    },
    {
      "cell_type": "code",
      "source": [
        "#importing the scipy and numpy packages\n",
        "from scipy import linalg\n",
        "import numpy as np\n",
        "\n",
        "#Declaring the numpy array\n",
        "A = np.array([[1,2],[3,4]])\n",
        "\n",
        "#Passing the values to the det function\n",
        "x = linalg.det(A)\n",
        "\n",
        "#printing the result\n",
        "print(x)"
      ],
      "metadata": {
        "colab": {
          "base_uri": "https://localhost:8080/"
        },
        "id": "Ycz1wyKM_ZoE",
        "outputId": "60dc7bdd-d013-44c1-8ce3-bbbb17e20bc7"
      },
      "execution_count": 5,
      "outputs": [
        {
          "output_type": "stream",
          "name": "stdout",
          "text": [
            "-2.0\n"
          ]
        }
      ]
    },
    {
      "cell_type": "markdown",
      "source": [
        "SciPy:線性代數之Eigenvalues and Eigenvectors\n"
      ],
      "metadata": {
        "id": "Fqe938L5_mQe"
      }
    },
    {
      "cell_type": "code",
      "source": [
        "#importing the scipy and numpy packages\n",
        "from scipy import linalg\n",
        "import numpy as np\n",
        "\n",
        "#Declaring the numpy array\n",
        "A = np.array([[1,2],[3,4]])\n",
        "\n",
        "#Passing the values to the eig function\n",
        "l, v = linalg.eig(A)\n",
        "\n",
        "#printing the result for eigen values\n",
        "print(l)\n",
        "\n",
        "#printing the result for eigen vectors\n",
        "print(v)"
      ],
      "metadata": {
        "colab": {
          "base_uri": "https://localhost:8080/"
        },
        "id": "NJx6iYzb_oce",
        "outputId": "227ecae9-4977-45b4-d063-5a3c0b9ddde5"
      },
      "execution_count": 6,
      "outputs": [
        {
          "output_type": "stream",
          "name": "stdout",
          "text": [
            "[-0.37228132+0.j  5.37228132+0.j]\n",
            "[[-0.82456484 -0.41597356]\n",
            " [ 0.56576746 -0.90937671]]\n"
          ]
        }
      ]
    },
    {
      "cell_type": "markdown",
      "source": [
        "Singular Value Decomposition(SVD)"
      ],
      "metadata": {
        "id": "2YyByXGE_rlu"
      }
    },
    {
      "cell_type": "code",
      "source": [
        "#importing the scipy and numpy packages\n",
        "from scipy import linalg\n",
        "import numpy as np\n",
        "\n",
        "#Declaring the numpy array\n",
        "a = np.random.randn(3, 2) + 1.j*np.random.randn(3, 2)\n",
        "\n",
        "#Passing the values to the eig function\n",
        "U, s, Vh = linalg.svd(a)\n",
        "\n",
        "# printing the result\n",
        "print(U, Vh, s)"
      ],
      "metadata": {
        "colab": {
          "base_uri": "https://localhost:8080/"
        },
        "id": "_MKcomyk_tne",
        "outputId": "7c57a031-c9e9-4d26-d38d-8a49cba5f702"
      },
      "execution_count": 7,
      "outputs": [
        {
          "output_type": "stream",
          "name": "stdout",
          "text": [
            "[[-0.21073057-0.1512183j  -0.02120562+0.1764302j   0.87919122+0.35801001j]\n",
            " [-0.38656221+0.52582973j  0.36791315-0.60840829j  0.0225321 +0.26085305j]\n",
            " [ 0.71083156+0.03894734j  0.67945056+0.03533992j  0.15138548+0.08591894j]] [[-0.43846044+0.j          0.81658246+0.37542713j]\n",
            " [ 0.89875049+0.j          0.39837431+0.18315422j]] [2.30153062 0.59931311]\n"
          ]
        }
      ]
    },
    {
      "cell_type": "markdown",
      "source": [
        "\n",
        "\n",
        "---\n",
        "\n"
      ],
      "metadata": {
        "id": "12mSoQaW_XAG"
      }
    }
  ]
}